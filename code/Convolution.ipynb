{
 "cells": [
  {
   "cell_type": "code",
   "execution_count": 1,
   "metadata": {},
   "outputs": [],
   "source": [
    "import numpy as np\n",
    "from PIL import Image\n",
    "import os\n",
    "import cv2\n",
    "import matplotlib.pyplot as plt"
   ]
  },
  {
   "cell_type": "code",
   "execution_count": 2,
   "metadata": {},
   "outputs": [
    {
     "ename": "NameError",
     "evalue": "name 'im2double' is not defined",
     "output_type": "error",
     "traceback": [
      "\u001b[1;31m---------------------------------------------------------------------------\u001b[0m",
      "\u001b[1;31mNameError\u001b[0m                                 Traceback (most recent call last)",
      "\u001b[1;32m<ipython-input-2-74c1bfb1332b>\u001b[0m in \u001b[0;36m<module>\u001b[1;34m()\u001b[0m\n\u001b[0;32m      1\u001b[0m \u001b[0mimg\u001b[0m \u001b[1;33m=\u001b[0m \u001b[0mcv2\u001b[0m\u001b[1;33m.\u001b[0m\u001b[0mimread\u001b[0m\u001b[1;33m(\u001b[0m\u001b[1;34m'test4.jpg'\u001b[0m\u001b[1;33m,\u001b[0m \u001b[0mcv2\u001b[0m\u001b[1;33m.\u001b[0m\u001b[0mIMREAD_GRAYSCALE\u001b[0m\u001b[1;33m)\u001b[0m\u001b[1;33m\u001b[0m\u001b[0m\n\u001b[1;32m----> 2\u001b[1;33m \u001b[0mimg\u001b[0m \u001b[1;33m=\u001b[0m \u001b[0mim2double\u001b[0m\u001b[1;33m(\u001b[0m\u001b[0mimg\u001b[0m\u001b[1;33m)\u001b[0m\u001b[1;33m\u001b[0m\u001b[0m\n\u001b[0m",
      "\u001b[1;31mNameError\u001b[0m: name 'im2double' is not defined"
     ]
    }
   ],
   "source": [
    "def convolution_bk(img,filt):\n",
    "    img_n = cv2.normalize(img.astype('float'),0.0,1.0,cv2.NORM_MINMAX)\n",
    "    p = int((filt.shape[0] -1)/2)\n",
    "    height =  img.shape[0]\n",
    "    width = img.shape[1]\n",
    "    \n",
    "    img_p = np.zeros((height+p*2,width+p*2))\n",
    "    img_p[p:-p,p:-p] = img_n\n",
    "    img_c = np.zeros_like(img_n)\n",
    "    \n",
    "    for i in range(img_p.shape[0]-(size-1)):\n",
    "        for j in range(img_p.shape[1] - (size-1)):\n",
    "            mul = img_p[i:i+size,j:j+size] *filt\n",
    "            sum_c = sum(sum(mul))\n",
    "            img_c[i,j] = sum_c\n"
   ]
  },
  {
   "cell_type": "code",
   "execution_count": 19,
   "metadata": {},
   "outputs": [],
   "source": [
    "size = 3\n",
    "filt = np.random.randint(2, size =(size,size))\n",
    "img = np.random.randint(8, size = (8,8))\n",
    "height = img.shape[0]\n",
    "width = img.shape[1]"
   ]
  },
  {
   "cell_type": "code",
   "execution_count": 20,
   "metadata": {},
   "outputs": [
    {
     "data": {
      "text/plain": [
       "array([[1, 0, 0],\n",
       "       [0, 0, 1],\n",
       "       [1, 0, 0]])"
      ]
     },
     "execution_count": 20,
     "metadata": {},
     "output_type": "execute_result"
    }
   ],
   "source": [
    "filt"
   ]
  },
  {
   "cell_type": "code",
   "execution_count": 21,
   "metadata": {},
   "outputs": [
    {
     "data": {
      "text/plain": [
       "array([[0, 5, 7, 1, 0, 3, 7, 4],\n",
       "       [4, 1, 4, 0, 3, 4, 4, 5],\n",
       "       [4, 2, 5, 2, 4, 2, 3, 4],\n",
       "       [1, 2, 1, 7, 4, 7, 6, 1],\n",
       "       [1, 2, 0, 5, 2, 4, 7, 0],\n",
       "       [0, 7, 2, 4, 5, 6, 2, 6],\n",
       "       [1, 7, 5, 4, 7, 0, 3, 7],\n",
       "       [4, 5, 4, 1, 2, 7, 0, 3]])"
      ]
     },
     "execution_count": 21,
     "metadata": {},
     "output_type": "execute_result"
    }
   ],
   "source": [
    "img"
   ]
  },
  {
   "cell_type": "code",
   "execution_count": 34,
   "metadata": {},
   "outputs": [],
   "source": [
    "p = int((size -1)/2)\n",
    "img_p = np.zeros((height+p*2,width+p*2))\n",
    "img_p[p:-p,p:-p] = img\n",
    "img_c = np.zeros_like(img)"
   ]
  },
  {
   "cell_type": "code",
   "execution_count": 35,
   "metadata": {},
   "outputs": [],
   "source": [
    "for i in range(img_p.shape[0]-(size-1)):\n",
    "    for j in range(img_p.shape[1] - (size-1)):\n",
    "        mul = img_p[i:i+size,j:j+size] *filt\n",
    "        sum_c = sum(sum(mul))\n",
    "        img_c[i,j] = sum_c"
   ]
  },
  {
   "cell_type": "code",
   "execution_count": 36,
   "metadata": {},
   "outputs": [
    {
     "data": {
      "text/plain": [
       "array([[ 5, 11,  2,  4,  3, 10,  8,  4],\n",
       "       [ 1,  8,  7, 15,  7,  8, 10, 10],\n",
       "       [ 2, 10,  5,  9,  9, 10, 15, 10],\n",
       "       [ 2,  6, 11,  9, 14, 12,  7, 10],\n",
       "       [ 2,  1, 14,  5, 15, 16, 13,  8],\n",
       "       [ 7,  4, 13, 10, 15, 11, 10, 10],\n",
       "       [ 7,  9, 16, 13,  5, 10, 20,  2],\n",
       "       [ 5,  5,  8,  7, 11,  7,  3,  3]])"
      ]
     },
     "execution_count": 36,
     "metadata": {},
     "output_type": "execute_result"
    }
   ],
   "source": [
    "img_c"
   ]
  },
  {
   "cell_type": "code",
   "execution_count": 37,
   "metadata": {},
   "outputs": [
    {
     "data": {
      "text/plain": [
       "array([[0., 0., 0., 0., 0., 0., 0., 0., 0., 0.],\n",
       "       [0., 0., 5., 7., 1., 0., 3., 7., 4., 0.],\n",
       "       [0., 4., 1., 4., 0., 3., 4., 4., 5., 0.],\n",
       "       [0., 4., 2., 5., 2., 4., 2., 3., 4., 0.],\n",
       "       [0., 1., 2., 1., 7., 4., 7., 6., 1., 0.],\n",
       "       [0., 1., 2., 0., 5., 2., 4., 7., 0., 0.],\n",
       "       [0., 0., 7., 2., 4., 5., 6., 2., 6., 0.],\n",
       "       [0., 1., 7., 5., 4., 7., 0., 3., 7., 0.],\n",
       "       [0., 4., 5., 4., 1., 2., 7., 0., 3., 0.],\n",
       "       [0., 0., 0., 0., 0., 0., 0., 0., 0., 0.]])"
      ]
     },
     "execution_count": 37,
     "metadata": {},
     "output_type": "execute_result"
    }
   ],
   "source": [
    "img_p"
   ]
  },
  {
   "cell_type": "code",
   "execution_count": 29,
   "metadata": {},
   "outputs": [
    {
     "data": {
      "text/plain": [
       "3"
      ]
     },
     "execution_count": 29,
     "metadata": {},
     "output_type": "execute_result"
    }
   ],
   "source": [
    "sum(sum(filt))"
   ]
  },
  {
   "cell_type": "code",
   "execution_count": 41,
   "metadata": {},
   "outputs": [],
   "source": [
    "im_n = cv2.normalize(img.astype('float'),0.0,1.0,cv2.NORM_MINMAX)"
   ]
  },
  {
   "cell_type": "code",
   "execution_count": 43,
   "metadata": {},
   "outputs": [
    {
     "data": {
      "text/plain": [
       "<matplotlib.image.AxesImage at 0x1b1c2db42b0>"
      ]
     },
     "execution_count": 43,
     "metadata": {},
     "output_type": "execute_result"
    },
    {
     "data": {
      "image/png": "[encoded data removed]",
      "text/plain": [
       "<Figure size 432x288 with 1 Axes>"
      ]
     },
     "metadata": {},
     "output_type": "display_data"
    }
   ],
   "source": [
    "plt.imshow(img)"
   ]
  },
  {
   "cell_type": "code",
   "execution_count": 44,
   "metadata": {},
   "outputs": [
    {
     "data": {
      "text/plain": [
       "<matplotlib.image.AxesImage at 0x1b1c47848d0>"
      ]
     },
     "execution_count": 44,
     "metadata": {},
     "output_type": "execute_result"
    },
    {
     "data": {
      "image/png": "[encoded data removed]",
      "text/plain": [
       "<Figure size 432x288 with 1 Axes>"
      ]
     },
     "metadata": {},
     "output_type": "display_data"
    }
   ],
   "source": [
    "plt.imshow(im_n)"
   ]
  },
  {
   "cell_type": "code",
   "execution_count": null,
   "metadata": {},
   "outputs": [],
   "source": []
  }
 ],
 "metadata": {
  "kernelspec": {
   "display_name": "Python 3",
   "language": "python",
   "name": "python3"
  },
  "language_info": {
   "codemirror_mode": {
    "name": "ipython",
    "version": 3
   },
   "file_extension": ".py",
   "mimetype": "text/x-python",
   "name": "python",
   "nbconvert_exporter": "python",
   "pygments_lexer": "ipython3",
   "version": "3.5.2rc1"
  }
 },
 "nbformat": 4,
 "nbformat_minor": 2
}
