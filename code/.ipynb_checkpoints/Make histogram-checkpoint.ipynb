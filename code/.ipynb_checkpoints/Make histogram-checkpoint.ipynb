{
 "cells": [
  {
   "cell_type": "code",
   "execution_count": 8,
   "metadata": {},
   "outputs": [],
   "source": [
    "import numpy as np\n",
    "from PIL import Image\n",
    "import os\n",
    "import cv2\n",
    "import matplotlib.pyplot as plt\n",
    "%matplotlib inline"
   ]
  },
  {
   "cell_type": "code",
   "execution_count": 9,
   "metadata": {},
   "outputs": [],
   "source": [
    "def hist_bk(Filename):\n",
    "    im = Image.open(Filename)\n",
    "    sizeX,sizeY = im.size #이미지 사이즈 \n",
    "    im_data = np.array(im) # 이미지 pixel 데이터를  array로\n",
    "    hist_data = np.zeros(256)\n",
    "    x_g = np.arange(256)\n",
    "    \n",
    "    for x in range(sizeY):\n",
    "        for y in range(sizeX):\n",
    "            value = im_data[x][y]\n",
    "            hist_data[value] = hist_data[value] + 1\n",
    "    \n",
    "    plt.figure()\n",
    "    plt.bar(x_g,hist_data, align = 'center',color = 'b')\n",
    "    plt.xlabel('pixel')\n",
    "    plt.ylabel('num')\n",
    "    plt.xlim(0,len(hist_data))\n",
    "    plt.ylim(0,hist_data.max())\n",
    "    plt.show()\n"
   ]
  },
  {
   "cell_type": "code",
   "execution_count": 10,
   "metadata": {},
   "outputs": [],
   "source": [
    "Filename = 'test2.png'"
   ]
  },
  {
   "cell_type": "code",
   "execution_count": 11,
   "metadata": {},
   "outputs": [
    {
     "data": {
      "image/png": "[encoded data removed]",
      "text/plain": [
       "<Figure size 432x288 with 1 Axes>"
      ]
     },
     "metadata": {},
     "output_type": "display_data"
    }
   ],
   "source": [
    "hist_bk(Filename)"
   ]
  },
  {
   "cell_type": "code",
   "execution_count": null,
   "metadata": {},
   "outputs": [],
   "source": []
  }
 ],
 "metadata": {
  "kernelspec": {
   "display_name": "Python 3",
   "language": "python",
   "name": "python3"
  },
  "language_info": {
   "codemirror_mode": {
    "name": "ipython",
    "version": 3
   },
   "file_extension": ".py",
   "mimetype": "text/x-python",
   "name": "python",
   "nbconvert_exporter": "python",
   "pygments_lexer": "ipython3",
   "version": "3.5.2rc1"
  }
 },
 "nbformat": 4,
 "nbformat_minor": 2
}
